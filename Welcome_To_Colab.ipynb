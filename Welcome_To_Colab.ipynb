{
  "cells": [
    {
      "cell_type": "markdown",
      "metadata": {
        "id": "view-in-github",
        "colab_type": "text"
      },
      "source": [
        "<a href=\"https://colab.research.google.com/github/swathi040/swathi/blob/main/Welcome_To_Colab.ipynb\" target=\"_parent\"><img src=\"https://colab.research.google.com/assets/colab-badge.svg\" alt=\"Open In Colab\"/></a>"
      ]
    },
    {
      "cell_type": "code",
      "execution_count": 1,
      "metadata": {
        "id": "zwFnJsE6vjf8",
        "colab": {
          "base_uri": "https://localhost:8080/"
        },
        "outputId": "47874282-972e-40ee-d65a-58bdaacfc3f5"
      },
      "outputs": [
        {
          "output_type": "stream",
          "name": "stdout",
          "text": [
            "Hi welcome to the game, This is a number guessing game.\n",
            "You got 7 chances to guess the number. Let's start the game\n",
            "Please Enter your Guess : 3\n",
            "Your guess is lesser\n",
            "Please Enter your Guess : 7\n",
            "Your guess is lesser\n",
            "Please Enter your Guess : 100\n",
            "Your guess is higher \n",
            "Please Enter your Guess : 1000\n",
            "Your guess is higher \n",
            "Please Enter your Guess : 50\n",
            "Your guess is lesser\n",
            "Please Enter your Guess : 80\n",
            "Your guess is higher \n",
            "Please Enter your Guess : 1000000\n",
            "Oops sorry, The number is 70 better luck next time\n"
          ]
        }
      ],
      "source": [
        "import random\n",
        "\n",
        "print(\"Hi welcome to the game, This is a number guessing game.\\nYou got 7 chances to guess the number. Let's start the game\")\n",
        "\n",
        "number_to_guess = random.randrange(100)\n",
        "\n",
        "chances = 7\n",
        "\n",
        "guess_counter = 0\n",
        "\n",
        "while guess_counter < chances:\n",
        "\n",
        "    guess_counter += 1\n",
        "    my_guess = int(input('Please Enter your Guess : '))\n",
        "\n",
        "    if my_guess == number_to_guess:\n",
        "        print(f'The number is {number_to_guess} and you found it right !! in the {guess_counter} attempt')\n",
        "        break\n",
        "\n",
        "    elif guess_counter >= chances and my_guess != number_to_guess:\n",
        "        print(f'Oops sorry, The number is {number_to_guess} better luck next time')\n",
        "\n",
        "    elif my_guess > number_to_guess:\n",
        "        print('Your guess is higher ')\n",
        "\n",
        "    elif my_guess < number_to_guess:\n",
        "        print('Your guess is lesser')\n"
      ]
    },
    {
      "cell_type": "code",
      "source": [
        "import numpy as np\n",
        "# Step 1: Read an array from the user\n",
        "# Let's assume the user enters 9 elements for the matrix\n",
        "a = np.array([1, 2, 3, 4, 5, 6, 7, 8, 9])\n"
      ],
      "metadata": {
        "id": "ehFAypCVs0SH"
      },
      "execution_count": 2,
      "outputs": []
    },
    {
      "cell_type": "code",
      "source": [
        "# Step 2: Display the array\n",
        "print(\"\\nOriginal Array:\")\n",
        "print(a)\n"
      ],
      "metadata": {
        "id": "rJZzBVOhtIPK",
        "outputId": "d1fe3188-d2de-4c72-86b8-3bb0062e6dff",
        "colab": {
          "base_uri": "https://localhost:8080/"
        }
      },
      "execution_count": 3,
      "outputs": [
        {
          "output_type": "stream",
          "name": "stdout",
          "text": [
            "\n",
            "Original Array:\n",
            "[1 2 3 4 5 6 7 8 9]\n"
          ]
        }
      ]
    },
    {
      "cell_type": "code",
      "source": [
        "# Step 3: Resize the array to a 3x3 matrix\n",
        "a = a.reshape(3, 3)\n",
        "print(\"\\nResized to 3x3 Matrix:\")\n",
        "print(a)"
      ],
      "metadata": {
        "id": "_TTgBENxtKiq",
        "outputId": "fea0b673-bca3-4521-9e05-3a0d6eb6dfac",
        "colab": {
          "base_uri": "https://localhost:8080/"
        }
      },
      "execution_count": 4,
      "outputs": [
        {
          "output_type": "stream",
          "name": "stdout",
          "text": [
            "\n",
            "Resized to 3x3 Matrix:\n",
            "[[1 2 3]\n",
            " [4 5 6]\n",
            " [7 8 9]]\n"
          ]
        }
      ]
    },
    {
      "cell_type": "code",
      "source": [
        "# Step 4: Create a random 3x3 matrix\n",
        "b = np.random.randint(1, 10, (3, 3))  # Generate random integers between 1 and 9\n",
        "print(\"\\nRandom 3x3 Matrix:\")\n",
        "print(b)\n"
      ],
      "metadata": {
        "id": "E5aiHqZ4tSI5",
        "outputId": "66bc1cf9-1e84-45bf-ad38-b519b9b4a617",
        "colab": {
          "base_uri": "https://localhost:8080/"
        }
      },
      "execution_count": 5,
      "outputs": [
        {
          "output_type": "stream",
          "name": "stdout",
          "text": [
            "\n",
            "Random 3x3 Matrix:\n",
            "[[2 3 4]\n",
            " [4 6 2]\n",
            " [4 2 6]]\n"
          ]
        }
      ]
    },
    {
      "cell_type": "code",
      "source": [
        "# 5.1 Matrix Addition\n",
        "sum = np.add(a, b)\n",
        "print(\"\\nMatrix Addition (A + B):\")\n",
        "print(sum)\n",
        "# 5.2: Matrix Subtraction\n",
        "sub = np.subtract(a, b)\n",
        "print(\"\\nMatrix Subtraction (A - B):\")\n",
        "print(sub)\n"
      ],
      "metadata": {
        "id": "rkUrHMSOtUuV",
        "outputId": "2ac850ec-808a-4810-dd5f-eac519457239",
        "colab": {
          "base_uri": "https://localhost:8080/"
        }
      },
      "execution_count": 6,
      "outputs": [
        {
          "output_type": "stream",
          "name": "stdout",
          "text": [
            "\n",
            "Matrix Addition (A + B):\n",
            "[[ 3  5  7]\n",
            " [ 8 11  8]\n",
            " [11 10 15]]\n",
            "\n",
            "Matrix Subtraction (A - B):\n",
            "[[-1 -1 -1]\n",
            " [ 0 -1  4]\n",
            " [ 3  6  3]]\n"
          ]
        }
      ]
    },
    {
      "cell_type": "code",
      "source": [
        "# 5.1 Matrix Addition\n",
        "sum = np.add(a, b)\n",
        "print(\"\\nMatrix Addition (A + B):\")\n",
        "print(sum)\n",
        "# 5.2: Matrix Subtraction\n",
        "sub = np.subtract(a, b)\n",
        "print(\"\\nMatrix Subtraction (A - B):\")\n",
        "print(sub)\n"
      ],
      "metadata": {
        "id": "oUiRZxEmtZ28",
        "outputId": "2a9c0012-b4b8-4df3-eb6e-2e9a05b07742",
        "colab": {
          "base_uri": "https://localhost:8080/"
        }
      },
      "execution_count": 7,
      "outputs": [
        {
          "output_type": "stream",
          "name": "stdout",
          "text": [
            "\n",
            "Matrix Addition (A + B):\n",
            "[[ 3  5  7]\n",
            " [ 8 11  8]\n",
            " [11 10 15]]\n",
            "\n",
            "Matrix Subtraction (A - B):\n",
            "[[-1 -1 -1]\n",
            " [ 0 -1  4]\n",
            " [ 3  6  3]]\n"
          ]
        }
      ]
    },
    {
      "cell_type": "code",
      "source": [
        "# 5.3: Matrix Multiplication (Element-wise product)\n",
        "mul = np.dot(a, b)  # or you can use a @ b for matrix multiplication\n",
        "print(\"\\nMatrix Multiplication (a * b):\")\n",
        "print(mul)\n"
      ],
      "metadata": {
        "id": "yabFY6Rjtr-L",
        "outputId": "5b3e65ca-2c8a-466c-97ae-92caf72b14d7",
        "colab": {
          "base_uri": "https://localhost:8080/"
        }
      },
      "execution_count": 8,
      "outputs": [
        {
          "output_type": "stream",
          "name": "stdout",
          "text": [
            "\n",
            "Matrix Multiplication (a * b):\n",
            "[[22 21 26]\n",
            " [52 54 62]\n",
            " [82 87 98]]\n"
          ]
        }
      ]
    },
    {
      "cell_type": "code",
      "source": [
        "# 5.4: Cross Product (Only for 3x3 matrices, row-wise)\n",
        "cross = np.cross(a, b)\n",
        "print(\"\\nCross Product (Row-wise A x B):\")\n",
        "print(cross)\n"
      ],
      "metadata": {
        "id": "KFGLoMEKtxQ3",
        "outputId": "3c29217d-fe03-44ae-e9b3-d23896186e88",
        "colab": {
          "base_uri": "https://localhost:8080/"
        }
      },
      "execution_count": 9,
      "outputs": [
        {
          "output_type": "stream",
          "name": "stdout",
          "text": [
            "\n",
            "Cross Product (Row-wise A x B):\n",
            "[[ -1   2  -1]\n",
            " [-26  16   4]\n",
            " [ 30  -6 -18]]\n"
          ]
        }
      ]
    },
    {
      "cell_type": "code",
      "source": [
        "# 5.5: Transpose of a matrix\n",
        "transpose_a = np.transpose(a)\n",
        "print(\"\\nTranspose of Matrix A:\")\n",
        "print(transpose_a)\n"
      ],
      "metadata": {
        "id": "N6s4GtXut07P",
        "outputId": "8c6dde96-afbe-4c9b-9b97-4b3b48ade135",
        "colab": {
          "base_uri": "https://localhost:8080/"
        }
      },
      "execution_count": 10,
      "outputs": [
        {
          "output_type": "stream",
          "name": "stdout",
          "text": [
            "\n",
            "Transpose of Matrix A:\n",
            "[[1 4 7]\n",
            " [2 5 8]\n",
            " [3 6 9]]\n"
          ]
        }
      ]
    },
    {
      "cell_type": "code",
      "source": [
        "# 5.6: Determinant of Matrix A\n",
        "det_a = np.linalg.det(a)\n",
        "print(\"\\nDeterminant of Matrix A:\")\n",
        "print(det_a)\n"
      ],
      "metadata": {
        "id": "d4Edwffgt5iw",
        "outputId": "a1c25493-6cdd-47f9-84d3-054b4e221496",
        "colab": {
          "base_uri": "https://localhost:8080/"
        }
      },
      "execution_count": 11,
      "outputs": [
        {
          "output_type": "stream",
          "name": "stdout",
          "text": [
            "\n",
            "Determinant of Matrix A:\n",
            "0.0\n"
          ]
        }
      ]
    },
    {
      "cell_type": "code",
      "source": [
        "# 5.7: Inverse of Matrix A\n",
        "if det_a != 0:  # Inverse exists only if determinant is non-zero\n",
        "    inv_a = np.linalg.inv(a)\n",
        "    print(\"\\nInverse of Matrix A:\")\n",
        "    print(inv_a)\n",
        "else:\n",
        "    print(\"\\nMatrix A has no inverse (Determinant is zero).\")\n"
      ],
      "metadata": {
        "id": "Vd8oEWp2t9-B",
        "outputId": "2a1b6c6f-cd87-4eb3-99b5-2a068211326f",
        "colab": {
          "base_uri": "https://localhost:8080/"
        }
      },
      "execution_count": 12,
      "outputs": [
        {
          "output_type": "stream",
          "name": "stdout",
          "text": [
            "\n",
            "Matrix A has no inverse (Determinant is zero).\n"
          ]
        }
      ]
    },
    {
      "cell_type": "markdown",
      "source": [
        "Matplotlib\n",
        "\n",
        "Signals and System\n",
        "\n",
        "import numpy as np\n",
        "import matplotlib.pyplot as plt"
      ],
      "metadata": {
        "id": "h0SA2C9SuQoP"
      }
    },
    {
      "cell_type": "code",
      "source": [
        "# Samling\n",
        "# step 1: Define the continuous time signal parameters\n",
        "t_continuous = np.linspace(0, 1, 1000)  # Create a time array from 0 to 1 second with 1000 points for continuous time\n",
        "frequency = 2  # Frequency of the sine wave in Hertz (5 cycles per second)\n",
        "continuous_signal = np.sin(2 * np.pi * frequency * t_continuous)  # Generate a continuous sine wave signal"
      ],
      "metadata": {
        "id": "5Akiw0E3uUVO"
      },
      "execution_count": 27,
      "outputs": []
    },
    {
      "cell_type": "code",
      "execution_count": 25,
      "metadata": {
        "id": "gJr_9dXGpJ05",
        "outputId": "06ab1b17-3ca4-460b-f4e4-32e65a9b4088",
        "colab": {
          "base_uri": "https://localhost:8080/"
        }
      },
      "outputs": [
        {
          "output_type": "execute_result",
          "data": {
            "text/plain": [
              "86400"
            ]
          },
          "metadata": {},
          "execution_count": 25
        }
      ],
      "source": [
        "seconds_in_a_day = 24 * 60 * 60\n",
        "seconds_in_a_day"
      ]
    }
  ],
  "metadata": {
    "colab": {
      "name": "Welcome To Colab",
      "provenance": [],
      "include_colab_link": true
    },
    "kernelspec": {
      "display_name": "Python 3",
      "name": "python3"
    }
  },
  "nbformat": 4,
  "nbformat_minor": 0
}